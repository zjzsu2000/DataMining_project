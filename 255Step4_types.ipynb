{
 "cells": [
  {
   "cell_type": "code",
   "execution_count": 1,
   "metadata": {},
   "outputs": [],
   "source": [
    "import seaborn as sns\n",
    "import pandas as pd\n",
    "import numpy as np\n",
    "import locale\n",
    "import matplotlib.pyplot as plt\n",
    "import matplotlib.image as mpimg\n",
    "%matplotlib inline\n",
    "from biokit.viz import corrplot\n",
    "import warnings\n",
    "import seaborn as sns\n",
    "warnings.filterwarnings('ignore')\n",
    "data = pd.read_csv('/Users/jiezou/Documents/GitHub/DataMining_project/v3.1.2/version3.1.2.csv') "
   ]
  },
  {
   "cell_type": "code",
   "execution_count": 2,
   "metadata": {},
   "outputs": [
    {
     "name": "stdout",
     "output_type": "stream",
     "text": [
      "   Unnamed: 0      id                                 name  \\\n",
      "0           0   958.0  Bright, Modern Garden Unit - 1BR/1B   \n",
      "1           1  3850.0                Charming room for two   \n",
      "\n",
      "                                             summary  \\\n",
      "0  New update: the house next door is under const...   \n",
      "1  Your own private room plus access to a shared ...   \n",
      "\n",
      "                                               space  \\\n",
      "0  Newly remodeled, modern, and bright garden uni...   \n",
      "1  This is the first room I rented on Airbnb, sta...   \n",
      "\n",
      "                                         description  \\\n",
      "0  New update: the house next door is under const...   \n",
      "1  Your own private room plus access to a shared ...   \n",
      "\n",
      "                               neighborhood_overview  \\\n",
      "0  *Quiet cul de sac in friendly neighborhood *St...   \n",
      "1  This is a quiet, safe neighborhood on a substa...   \n",
      "\n",
      "                                               notes  \\\n",
      "0  Due to the fact that we have children and a do...   \n",
      "1  Here is the complete list of House Rules you a...   \n",
      "\n",
      "                                             transit  \\\n",
      "0  *Public Transportation is 1/2 block away.  *Ce...   \n",
      "1  Public transit service to my house is outstand...   \n",
      "\n",
      "                                              access  ... maximum_nights  \\\n",
      "0  *Full access to patio and backyard (shared wit...  ...           30.0   \n",
      "1  During the hours of 7:00 to 22:00, your access...  ...            5.0   \n",
      "\n",
      "  number_of_reviews  review_scores_rating review_scores_cleanliness  \\\n",
      "0             199.0                  97.0                      10.0   \n",
      "1             136.0                  94.0                       9.0   \n",
      "\n",
      "  review_scores_checkin review_scores_communication  review_scores_location  \\\n",
      "0                  10.0                        10.0                    10.0   \n",
      "1                  10.0                        10.0                     9.0   \n",
      "\n",
      "   review_scores_value instant_bookable  cancellation_policy  \n",
      "0                  9.0                1                    2  \n",
      "1                  9.0                0                    1  \n",
      "\n",
      "[2 rows x 47 columns]\n"
     ]
    }
   ],
   "source": [
    "print(data.head(2))"
   ]
  },
  {
   "cell_type": "code",
   "execution_count": 3,
   "metadata": {},
   "outputs": [],
   "source": [
    "#Removing the Duplicates if any \n",
    "data.duplicated().sum() \n",
    "data.drop_duplicates(inplace=True)"
   ]
  },
  {
   "cell_type": "code",
   "execution_count": 4,
   "metadata": {},
   "outputs": [
    {
     "data": {
      "text/plain": [
       "Unnamed: 0                       int64\n",
       "id                             float64\n",
       "name                            object\n",
       "summary                         object\n",
       "space                           object\n",
       "description                     object\n",
       "neighborhood_overview           object\n",
       "notes                           object\n",
       "transit                         object\n",
       "access                          object\n",
       "interaction                     object\n",
       "house_rules                     object\n",
       "host_id                          int64\n",
       "host_about                      object\n",
       "host_response_time              object\n",
       "host_response_rate              object\n",
       "host_is_superhost                int64\n",
       "host_total_listings_count      float64\n",
       "host_verifications              object\n",
       "host_has_profile_pic             int64\n",
       "host_identity_verified           int64\n",
       "neighbourhood_cleansed           int64\n",
       "zipcode                         object\n",
       "latitude                       float64\n",
       "longitude                      float64\n",
       "property_type                   object\n",
       "room_type                        int64\n",
       "accommodates                   float64\n",
       "bathrooms                      float64\n",
       "bedrooms                       float64\n",
       "beds                           float64\n",
       "bed_type                         int64\n",
       "amenities                       object\n",
       "price                          float64\n",
       "security_deposit                object\n",
       "cleaning_fee                    object\n",
       "minimum_nights                 float64\n",
       "maximum_nights                 float64\n",
       "number_of_reviews              float64\n",
       "review_scores_rating            object\n",
       "review_scores_cleanliness       object\n",
       "review_scores_checkin           object\n",
       "review_scores_communication     object\n",
       "review_scores_location          object\n",
       "review_scores_value             object\n",
       "instant_bookable                 int64\n",
       "cancellation_policy              int64\n",
       "dtype: object"
      ]
     },
     "execution_count": 4,
     "metadata": {},
     "output_type": "execute_result"
    }
   ],
   "source": [
    "data.dtypes"
   ]
  },
  {
   "cell_type": "code",
   "execution_count": 5,
   "metadata": {},
   "outputs": [
    {
     "data": {
      "text/plain": [
       "Apartment             3038\n",
       "House                 2127\n",
       "Condominium            823\n",
       "Guest suite            544\n",
       "Boutique hotel         226\n",
       "Hotel                  150\n",
       "Townhouse              140\n",
       "Serviced apartment     121\n",
       "Loft                    90\n",
       "Hostel                  85\n",
       "Guesthouse              40\n",
       "Bed and breakfast       35\n",
       "Aparthotel              30\n",
       "Other                   28\n",
       "Bungalow                18\n",
       "Resort                  17\n",
       "Villa                    9\n",
       "Cottage                  8\n",
       "Tiny house               3\n",
       "Cabin                    2\n",
       "Boat                     2\n",
       "Earth house              2\n",
       "Camper/RV                1\n",
       "Dome house               1\n",
       "In-law                   1\n",
       "Castle                   1\n",
       "Timeshare                1\n",
       "Name: property_type, dtype: int64"
      ]
     },
     "execution_count": 5,
     "metadata": {},
     "output_type": "execute_result"
    }
   ],
   "source": [
    "data[\"property_type\"].value_counts()"
   ]
  },
  {
   "cell_type": "code",
   "execution_count": 6,
   "metadata": {},
   "outputs": [],
   "source": [
    "#category the property_type\n",
    "data[\"property_type\"][data[\"property_type\"].str.contains(\"Condominium\")]=\"Apartment\"\n",
    "data[\"property_type\"][data[\"property_type\"].str.contains(\"Guest suite\")]=\"Apartment\"\n",
    "data[\"property_type\"][data[\"property_type\"].str.contains(\"apartment\")]=\"Apartment\"\n",
    "data[\"property_type\"][data[\"property_type\"].str.contains(\"Loft\")]=\"Apartment\"\n",
    "\n",
    "data[\"property_type\"][data[\"property_type\"].str.contains(\"house\")]=\"House\"\n",
    "data[\"property_type\"][data[\"property_type\"].str.contains(\"Villa\")]=\"House\"\n",
    "data[\"property_type\"][data[\"property_type\"].str.contains(\"Cottage\")]=\"House\"\n",
    "data[\"property_type\"][data[\"property_type\"].str.contains(\"Boat\")]=\"House\"\n",
    "data[\"property_type\"][data[\"property_type\"].str.contains(\"Cabin\")]=\"House\"\n",
    "\n",
    "data[\"property_type\"][data[\"property_type\"].str.contains(\"hotel\")]=\"Hotel\"\n",
    "data[\"property_type\"][data[\"property_type\"].str.contains(\"Hotel\")]=\"Hotel\"\n",
    "data[\"property_type\"][data[\"property_type\"].str.contains(\"Bungalow\")]=\"Hotel\"\n",
    "data[\"property_type\"][data[\"property_type\"].str.contains(\"Resort\")]=\"Hotel\"\n",
    "data[\"property_type\"][data[\"property_type\"].str.contains(\"Timeshare\")]=\"Hotel\"\n",
    "\n",
    "data[\"property_type\"][data[\"property_type\"].str.contains(\"Hostel\")]=\"Other\"\n",
    "data[\"property_type\"][data[\"property_type\"].str.contains(\"Bed and breakfast\")]=\"Other\"\n",
    "data[\"property_type\"][data[\"property_type\"].str.contains(\"In-law\")]=\"Other\"\n",
    "data[\"property_type\"][data[\"property_type\"].str.contains(\"Camper\")]=\"Other\"\n",
    "data[\"property_type\"][data[\"property_type\"].str.contains(\"Castle\")]=\"Other\"\n",
    "\n",
    "convert_property_type = {\"property_type\":{\"Apartment\":1,\"House\":2,\"Hotel\":3,\"Other\":4}}\n",
    "data.replace(convert_property_type, inplace=True)"
   ]
  },
  {
   "cell_type": "code",
   "execution_count": 7,
   "metadata": {},
   "outputs": [
    {
     "data": {
      "text/plain": [
       "1    4616\n",
       "2    2334\n",
       "3     442\n",
       "4     151\n",
       "Name: property_type, dtype: int64"
      ]
     },
     "execution_count": 7,
     "metadata": {},
     "output_type": "execute_result"
    }
   ],
   "source": [
    "data[\"property_type\"].value_counts()"
   ]
  },
  {
   "cell_type": "code",
   "execution_count": 8,
   "metadata": {},
   "outputs": [],
   "source": [
    "#converting some category_types and float_types\n",
    "data[\"property_type\"]=data[\"property_type\"].astype('category')\n",
    "data[\"room_type\"]=data[\"room_type\"].astype('category')\n",
    "data[\"host_response_time\"]=data[\"host_response_time\"].astype('category')\n",
    "data[\"host_is_superhost\"]=data[\"host_is_superhost\"].astype('category')\n",
    "data[\"zipcode\"]= data[\"zipcode\"].str.replace(r'[^-+\\d.]', '').astype('category')\n",
    "data[\"host_has_profile_pic\"]=data[\"host_has_profile_pic\"].astype('category')\n",
    "data[\"neighbourhood_cleansed\"]=data[\"neighbourhood_cleansed\"].astype('category')\n",
    "data[\"bed_type\"]=data[\"bed_type\"].astype('category')\n",
    "data[\"instant_bookable\"]=data[\"instant_bookable\"].astype('category')\n",
    "data[\"security_deposit\"]=data[\"security_deposit\"].str.replace(r'[^-+\\d.]', '').astype('float')\n",
    "data[\"host_response_rate\"]= data[\"host_response_rate\"].str.replace(r'[^-+\\d.]', '').astype(float)\n",
    "data[\"cleaning_fee\"]=data[\"cleaning_fee\"].str.replace(r'[^-+\\d.]', '').astype('float')\n",
    "data[\"cancellation_policy\"]=data[\"cancellation_policy\"].astype('category')"
   ]
  },
  {
   "cell_type": "code",
   "execution_count": 9,
   "metadata": {},
   "outputs": [
    {
     "data": {
      "text/plain": [
       "Unnamed: 0                        int64\n",
       "id                              float64\n",
       "name                             object\n",
       "summary                          object\n",
       "space                            object\n",
       "description                      object\n",
       "neighborhood_overview            object\n",
       "notes                            object\n",
       "transit                          object\n",
       "access                           object\n",
       "interaction                      object\n",
       "house_rules                      object\n",
       "host_id                           int64\n",
       "host_about                       object\n",
       "host_response_time             category\n",
       "host_response_rate              float64\n",
       "host_is_superhost              category\n",
       "host_total_listings_count       float64\n",
       "host_verifications               object\n",
       "host_has_profile_pic           category\n",
       "host_identity_verified            int64\n",
       "neighbourhood_cleansed         category\n",
       "zipcode                        category\n",
       "latitude                        float64\n",
       "longitude                       float64\n",
       "property_type                  category\n",
       "room_type                      category\n",
       "accommodates                    float64\n",
       "bathrooms                       float64\n",
       "bedrooms                        float64\n",
       "beds                            float64\n",
       "bed_type                       category\n",
       "amenities                        object\n",
       "price                           float64\n",
       "security_deposit                float64\n",
       "cleaning_fee                    float64\n",
       "minimum_nights                  float64\n",
       "maximum_nights                  float64\n",
       "number_of_reviews               float64\n",
       "review_scores_rating             object\n",
       "review_scores_cleanliness        object\n",
       "review_scores_checkin            object\n",
       "review_scores_communication      object\n",
       "review_scores_location           object\n",
       "review_scores_value              object\n",
       "instant_bookable               category\n",
       "cancellation_policy            category\n",
       "dtype: object"
      ]
     },
     "execution_count": 9,
     "metadata": {},
     "output_type": "execute_result"
    }
   ],
   "source": [
    "data.dtypes"
   ]
  },
  {
   "cell_type": "code",
   "execution_count": 10,
   "metadata": {},
   "outputs": [],
   "source": [
    "data.to_csv('/Users/jiezou/Documents/GitHub/DataMining_project/v4/version4.csv')"
   ]
  },
  {
   "cell_type": "code",
   "execution_count": null,
   "metadata": {},
   "outputs": [],
   "source": []
  }
 ],
 "metadata": {
  "kernelspec": {
   "display_name": "Python 3",
   "language": "python",
   "name": "python3"
  },
  "language_info": {
   "codemirror_mode": {
    "name": "ipython",
    "version": 3
   },
   "file_extension": ".py",
   "mimetype": "text/x-python",
   "name": "python",
   "nbconvert_exporter": "python",
   "pygments_lexer": "ipython3",
   "version": "3.7.4"
  }
 },
 "nbformat": 4,
 "nbformat_minor": 2
}
